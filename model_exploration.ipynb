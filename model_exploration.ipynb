{
 "cells": [
  {
   "cell_type": "code",
   "execution_count": 1,
   "metadata": {},
   "outputs": [],
   "source": [
    "from brfss_functions import load_brfss_data, split_brfss_dataset, \\\n",
    "    CustomAttributeDropper\n",
    "from sklearn.pipeline import Pipeline\n",
    "from sklearn.preprocessing import StandardScaler\n",
    "from sklearn.model_selection import cross_val_score\n",
    "from basic_functions import display_scores\n",
    "\n",
    "data = load_brfss_data()\n",
    "train, train_labels, test, test_labels = split_brfss_dataset(data)\n",
    "\n",
    "data_pipeline = Pipeline([\n",
    "        ('attr_dropper', CustomAttributeDropper()),\n",
    "        ('std_scaler', StandardScaler()),\n",
    "    ])\n",
    "\n",
    "train_prepared = data_pipeline.fit_transform(train)"
   ]
  },
  {
   "cell_type": "code",
   "execution_count": 2,
   "id": "97cd2787",
   "metadata": {},
   "outputs": [
    {
     "name": "stdout",
     "output_type": "stream",
     "text": [
      "Scores: [0.33333333 0.33333333 0.33333333]\n",
      "Mean: 0.3333333333333333\n",
      "Standard deviation: 0.0\n"
     ]
    }
   ],
   "source": [
    "from sklearn.linear_model import SGDClassifier\n",
    "\n",
    "sgd_clf = SGDClassifier()\n",
    "\n",
    "sgd_scores = cross_val_score(\n",
    "    estimator=sgd_clf,\n",
    "    X=train_prepared,\n",
    "    y=train_labels,\n",
    "    scoring='balanced_accuracy',\n",
    "    cv=3)\n",
    "\n",
    "display_scores(sgd_scores)"
   ]
  },
  {
   "cell_type": "code",
   "execution_count": 3,
   "id": "79ee792d",
   "metadata": {},
   "outputs": [
    {
     "name": "stdout",
     "output_type": "stream",
     "text": [
      "Scores: [0.35995087 0.3603847  0.35696911]\n",
      "Mean: 0.359101561239723\n",
      "Standard deviation: 0.0015182348616734535\n"
     ]
    }
   ],
   "source": [
    "from sklearn.svm import LinearSVC\n",
    "\n",
    "lin_svc = LinearSVC(max_iter=10_000)\n",
    "\n",
    "lin_svc_scores = cross_val_score(\n",
    "    estimator=lin_svc,\n",
    "    X=train_prepared,\n",
    "    y=train_labels,\n",
    "    scoring='balanced_accuracy',\n",
    "    cv=3)\n",
    "\n",
    "display_scores(lin_svc_scores)"
   ]
  },
  {
   "cell_type": "code",
   "execution_count": 6,
   "id": "5e739028",
   "metadata": {},
   "outputs": [
    {
     "name": "stdout",
     "output_type": "stream",
     "text": [
      "Scores: [0.39319569 0.39419173 0.39116487]\n",
      "Mean: 0.39285076016749815\n",
      "Standard deviation: 0.001259549699395266\n"
     ]
    }
   ],
   "source": [
    "from sklearn.ensemble import RandomForestClassifier\n",
    "\n",
    "forest_clf = RandomForestClassifier(random_state=42)\n",
    "\n",
    "forest_scores = cross_val_score(\n",
    "    estimator=forest_clf,\n",
    "    X=train_prepared,\n",
    "    y=train_labels,\n",
    "    scoring='balanced_accuracy',\n",
    "    cv=3)\n",
    "\n",
    "display_scores(forest_scores)"
   ]
  },
  {
   "cell_type": "code",
   "execution_count": 8,
   "id": "9a962d58",
   "metadata": {},
   "outputs": [
    {
     "name": "stdout",
     "output_type": "stream",
     "text": [
      "{'bootstrap': False, 'n_estimators': 400}\n"
     ]
    }
   ],
   "source": [
    "from sklearn.model_selection import GridSearchCV\n",
    "\n",
    "forest_param_grid = [\n",
    "    {'n_estimators': [100, 200, 400]},\n",
    "    {'bootstrap': [False], 'n_estimators': [100, 200, 400]},\n",
    "]\n",
    "\n",
    "forest_grid_search = GridSearchCV(\n",
    "    estimator=forest_clf,\n",
    "    param_grid=forest_param_grid,\n",
    "    scoring='balanced_accuracy',\n",
    "    cv=5,\n",
    "    return_train_score=True)\n",
    "\n",
    "forest_grid_search.fit(train_prepared, train_labels)\n",
    "\n",
    "print(forest_grid_search.best_params_)\n"
   ]
  }
 ],
 "metadata": {
  "interpreter": {
   "hash": "eb966c69a3abf4c469b59b8da8178a6e369a36a6becef49b03ad9fe2de4b6d0f"
  },
  "kernelspec": {
   "display_name": "Python 3.10.2 ('venv': venv)",
   "language": "python",
   "name": "python3"
  },
  "language_info": {
   "codemirror_mode": {
    "name": "ipython",
    "version": 3
   },
   "file_extension": ".py",
   "mimetype": "text/x-python",
   "name": "python",
   "nbconvert_exporter": "python",
   "pygments_lexer": "ipython3",
   "version": "3.10.2"
  }
 },
 "nbformat": 4,
 "nbformat_minor": 5
}
